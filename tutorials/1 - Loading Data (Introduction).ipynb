{
 "cells": [
  {
   "cell_type": "markdown",
   "metadata": {},
   "source": [
    "# Loading Data"
   ]
  },
  {
   "cell_type": "markdown",
   "metadata": {},
   "source": [
    "Welcome to DeepTCR! We created DeepTCR to help you analyzie T-Cell Receptor Sequencing (TCRSeq) data in a structurally informed way. We created a variety of these tutorials to guide you in using DeepTCR."
   ]
  },
  {
   "cell_type": "markdown",
   "metadata": {},
   "source": [
    "The first thing we will go through is how to get your TCRSeq data into DeepTCR for both unsupervised and supervised learning analysis. Generally, you will have data that is organized by TCR sequences (either alpha or beta or paired alpha/beta) with v/d/j gene usage and counts/frequencies for those sequences. We will go over two methods by which one can load data into DeepTCR."
   ]
  },
  {
   "cell_type": "markdown",
   "metadata": {},
   "source": [
    "## Loading Data From Files"
   ]
  },
  {
   "cell_type": "markdown",
   "metadata": {},
   "source": [
    "The first way is to load data that is stored in TCRSeq delimited filed (like those produced by Adaptive Biotechnologies). First, it's important to put your data into a main directory with sub-directories if the data is organized in a way with natural labels (i.e. antigen specificity or treatment cohorts). The main directory reflects the project of data while the subdirectories represent possible groupings/class labels of your data. An example of this formatting can be seen in the Data directory provided. Several datasets exist and can be looked for their formatting. If there is no labels for the data, set the directory to the folder where the data is stored and the files will be loaded with no label. The program can either take csv or tsv files (comma,tab delimited files).\n",
    "\n",
    "Once the data has been prepared in the directories as directed, one can call the following command to load the data.The important inputs into this function include the directory where the data is stored, whether we want to aggregate to only unique aa (aggregatate_by_aa=True), and then the columns where our data is stored. For example, the beta chain data is located in column 0. DeepTCR can take any type of TCRSeq data as long as at least one type of data is provided.Of note, if this command has been executed previously, one can choose to se the Load_Prev_Data parameter to True to directly load the saved data quickly from an automatically stored pickle file."
   ]
  },
  {
   "cell_type": "code",
   "execution_count": 2,
   "metadata": {},
   "outputs": [
    {
     "ename": "NameError",
     "evalue": "name 'tf' is not defined",
     "output_type": "error",
     "traceback": [
      "\u001b[31m---------------------------------------------------------------------------\u001b[39m",
      "\u001b[31mNameError\u001b[39m                                 Traceback (most recent call last)",
      "\u001b[36mCell\u001b[39m\u001b[36m \u001b[39m\u001b[32mIn[2]\u001b[39m\u001b[32m, line 3\u001b[39m\n\u001b[32m      1\u001b[39m \u001b[38;5;28;01mimport\u001b[39;00m\u001b[38;5;250m \u001b[39m\u001b[34;01msys\u001b[39;00m\n\u001b[32m      2\u001b[39m sys.path.append(\u001b[33m'\u001b[39m\u001b[33m../\u001b[39m\u001b[33m'\u001b[39m)\n\u001b[32m----> \u001b[39m\u001b[32m3\u001b[39m \u001b[38;5;28;01mfrom\u001b[39;00m\u001b[38;5;250m \u001b[39m\u001b[34;01mDeepTCR3\u001b[39;00m\u001b[34;01m.\u001b[39;00m\u001b[34;01mDeepTCR3\u001b[39;00m\u001b[38;5;250m \u001b[39m\u001b[38;5;28;01mimport\u001b[39;00m DeepTCR3_U\n\u001b[32m      5\u001b[39m \u001b[38;5;66;03m# Instantiate training object\u001b[39;00m\n\u001b[32m      6\u001b[39m DTCRU = DeepTCR3_U(\u001b[33m'\u001b[39m\u001b[33mTutorial\u001b[39m\u001b[33m'\u001b[39m)\n",
      "\u001b[36mFile \u001b[39m\u001b[32mc:\\Users\\huang\\Documents\\GitHub\\DeepTCR-3\\tutorials\\..\\DeepTCR3\\DeepTCR3.py:3\u001b[39m\n\u001b[32m      1\u001b[39m \u001b[38;5;28;01mimport\u001b[39;00m\u001b[38;5;250m \u001b[39m\u001b[34;01msys\u001b[39;00m\n\u001b[32m      2\u001b[39m sys.path.append(\u001b[33m'\u001b[39m\u001b[33m../\u001b[39m\u001b[33m'\u001b[39m)\n\u001b[32m----> \u001b[39m\u001b[32m3\u001b[39m \u001b[38;5;28;01mfrom\u001b[39;00m\u001b[38;5;250m \u001b[39m\u001b[34;01mDeepTCR3\u001b[39;00m\u001b[34;01m.\u001b[39;00m\u001b[34;01mfunctions\u001b[39;00m\u001b[34;01m.\u001b[39;00m\u001b[34;01mLayers\u001b[39;00m\u001b[38;5;250m \u001b[39m\u001b[38;5;28;01mimport\u001b[39;00m *\n\u001b[32m      4\u001b[39m \u001b[38;5;28;01mfrom\u001b[39;00m\u001b[38;5;250m \u001b[39m\u001b[34;01mDeepTCR3\u001b[39;00m\u001b[34;01m.\u001b[39;00m\u001b[34;01mfunctions\u001b[39;00m\u001b[34;01m.\u001b[39;00m\u001b[34;01mutils_u\u001b[39;00m\u001b[38;5;250m \u001b[39m\u001b[38;5;28;01mimport\u001b[39;00m *\n\u001b[32m      5\u001b[39m \u001b[38;5;28;01mfrom\u001b[39;00m\u001b[38;5;250m \u001b[39m\u001b[34;01mDeepTCR3\u001b[39;00m\u001b[34;01m.\u001b[39;00m\u001b[34;01mfunctions\u001b[39;00m\u001b[34;01m.\u001b[39;00m\u001b[34;01mutils_s\u001b[39;00m\u001b[38;5;250m \u001b[39m\u001b[38;5;28;01mimport\u001b[39;00m *\n",
      "\u001b[36mFile \u001b[39m\u001b[32mc:\\Users\\huang\\Documents\\GitHub\\DeepTCR-3\\tutorials\\..\\DeepTCR3\\functions\\Layers.py:313\u001b[39m\n\u001b[32m    310\u001b[39m     \u001b[38;5;28;01mreturn\u001b[39;00m sparsity_cost\n\u001b[32m    312\u001b[39m \u001b[38;5;66;03m#Other Layers\u001b[39;00m\n\u001b[32m--> \u001b[39m\u001b[32m313\u001b[39m \u001b[38;5;28;01mdef\u001b[39;00m\u001b[38;5;250m \u001b[39m\u001b[34mMultiSample_Dropout\u001b[39m(X,num_masks=\u001b[32m2\u001b[39m,activation=\u001b[43mtf\u001b[49m.nn.relu,use_bias=\u001b[38;5;28;01mTrue\u001b[39;00m,\n\u001b[32m    314\u001b[39m                        rate=\u001b[32m0.25\u001b[39m,units=\u001b[32m12\u001b[39m,name=\u001b[33m'\u001b[39m\u001b[33mml_weights\u001b[39m\u001b[33m'\u001b[39m,reg=\u001b[32m0.0\u001b[39m):\n\u001b[32m    315\u001b[39m \u001b[38;5;250m    \u001b[39m\u001b[33;03m\"\"\"\u001b[39;00m\n\u001b[32m    316\u001b[39m \u001b[33;03m    Multi-Sample Dropout Layer\u001b[39;00m\n\u001b[32m    317\u001b[39m \n\u001b[32m   (...)\u001b[39m\u001b[32m    348\u001b[39m \n\u001b[32m    349\u001b[39m \u001b[33;03m    \"\"\"\u001b[39;00m\n\u001b[32m    350\u001b[39m     out = []\n",
      "\u001b[31mNameError\u001b[39m: name 'tf' is not defined"
     ]
    }
   ],
   "source": [
    "import sys\n",
    "sys.path.append('../')\n",
    "from DeepTCR3.DeepTCR3 import DeepTCR3_U\n",
    "\n",
    "# Instantiate training object\n",
    "DTCRU = DeepTCR3_U('Tutorial')\n",
    "\n",
    "#Load Data from directories\n",
    "DTCRU.Get_Data(directory='../Data/Murine_Antigens',Load_Prev_Data=False,aggregate_by_aa=True,\n",
    "               aa_column_beta=0,count_column=1,v_beta_column=2,j_beta_column=3)"
   ]
  },
  {
   "cell_type": "markdown",
   "metadata": {},
   "source": [
    "## Loading Data Programtically"
   ]
  },
  {
   "cell_type": "markdown",
   "metadata": {},
   "source": [
    "The second way one can load data into DeepTCRis through directly inputting the data programtically. This is useful if one has sequence data from other analyses and wants to utilzie some of the DeepTCR's featurization capabilties for other analyses in part of a larger pipeline.To do this, one can load data directly into DeepTCR with the follwing command."
   ]
  },
  {
   "cell_type": "code",
   "execution_count": 2,
   "metadata": {},
   "outputs": [
    {
     "name": "stdout",
     "output_type": "stream",
     "text": [
      "Data Loaded\n"
     ]
    }
   ],
   "source": [
    "beta = DTCRU.beta_sequences\n",
    "freq = DTCRU.freq\n",
    "counts = DTCRU.counts\n",
    "v_beta = DTCRU.v_beta\n",
    "d_beta = DTCRU.d_beta\n",
    "j_beta = DTCRU.j_beta\n",
    "class_labels = DTCRU.class_id\n",
    "sample_labels = DTCRU.sample_id\n",
    "DTCRU.Load_Data(beta_sequences=beta,v_beta=v_beta,d_beta=d_beta,\n",
    "                j_beta=j_beta,class_labels=class_labels,sample_labels=sample_labels)"
   ]
  },
  {
   "cell_type": "markdown",
   "metadata": {},
   "source": [
    "Of note, after data has been loaded from files, one can pull this data for other analyses by referencing the object variables as demontrated above."
   ]
  }
 ],
 "metadata": {
  "kernelspec": {
   "display_name": "venv",
   "language": "python",
   "name": "python3"
  },
  "language_info": {
   "codemirror_mode": {
    "name": "ipython",
    "version": 3
   },
   "file_extension": ".py",
   "mimetype": "text/x-python",
   "name": "python",
   "nbconvert_exporter": "python",
   "pygments_lexer": "ipython3",
   "version": "3.13.3"
  }
 },
 "nbformat": 4,
 "nbformat_minor": 2
}
