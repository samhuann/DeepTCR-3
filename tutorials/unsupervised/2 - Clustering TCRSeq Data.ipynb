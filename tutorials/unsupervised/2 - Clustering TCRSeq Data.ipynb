{
 "cells": [
  {
   "cell_type": "markdown",
   "metadata": {},
   "source": [
    "# Clustering TCR Sequences"
   ]
  },
  {
   "cell_type": "markdown",
   "metadata": {},
   "source": [
    "Following featurization of the TCRSeq data, users will often want to cluster the TCRSeq data to identify possible antigen-specific clusters of sequences. In order to do this, we have provided multiple ways for clustering your TCR sequences."
   ]
  },
  {
   "cell_type": "markdown",
   "metadata": {},
   "source": [
    "## Phenograph Clustering"
   ]
  },
  {
   "cell_type": "markdown",
   "metadata": {},
   "source": [
    "The first method we will explore is using a network-graph based clustering algorithm called Phenograph (https://github.com/jacoblevine/PhenoGraph). This method automatically determines the number of clusters in the data by maximizing the modularity of the network-graph asssembled from the data. Of note, this algorithm is very fast and will be useful for when there are possibly thousands to tens of thouands of sequences to cluster. However, clusters by this method tend to be quite large."
   ]
  },
  {
   "cell_type": "markdown",
   "metadata": {},
   "source": [
    "First, we will load data and train the VAE."
   ]
  },
  {
   "cell_type": "code",
   "execution_count": 1,
   "metadata": {},
   "outputs": [],
   "source": [
    "%%capture\n",
    "import sys\n",
    "sys.path.append('../../')\n",
    "from DeepTCR3.DeepTCR3 import DeepTCR3_U\n",
    "\n",
    "# Instantiate training object\n",
    "DTCRU = DeepTCR3_U('Tutorial')\n",
    "\n",
    "#Load Data from directories\n",
    "DTCRU.Get_Data(directory='../../Data/Murine_Antigens',Load_Prev_Data=False,aggregate_by_aa=True,\n",
    "               aa_column_beta=0,count_column=1,v_beta_column=2,j_beta_column=3)\n",
    "\n",
    "#Train VAE\n",
    "DTCRU.Train_VAE(Load_Prev_Data=False)\n"
   ]
  },
  {
   "cell_type": "markdown",
   "metadata": {},
   "source": [
    "We will then run the clustering command."
   ]
  },
  {
   "cell_type": "code",
   "execution_count": 2,
   "metadata": {},
   "outputs": [
    {
     "name": "stdout",
     "output_type": "stream",
     "text": [
      "Finding 30 nearest neighbors using minkowski metric and 'auto' algorithm\n",
      "Neighbors computed in 2.7154645919799805 seconds\n",
      "Jaccard graph constructed in 0.7795383930206299 seconds\n",
      "Wrote graph to binary file in 0.26288819313049316 seconds\n",
      "Running Louvain modularity optimization\n",
      "After 1 runs, maximum modularity is Q = 0.864216\n",
      "After 2 runs, maximum modularity is Q = 0.865825\n",
      "Louvain completed 22 runs in 4.592194318771362 seconds\n",
      "PhenoGraph complete in 8.362215518951416 seconds\n",
      "Clustering Done\n"
     ]
    }
   ],
   "source": [
    "DTCRU.Cluster(clustering_method='phenograph')"
   ]
  },
  {
   "cell_type": "markdown",
   "metadata": {},
   "source": [
    "Following clustering, we can view the clustering solutions by looking at the object variable called Cluster_DFs."
   ]
  },
  {
   "cell_type": "code",
   "execution_count": 3,
   "metadata": {},
   "outputs": [
    {
     "name": "stdout",
     "output_type": "stream",
     "text": [
      "     index Alpha_Sequences   Beta_Sequences V_alpha J_alpha      V_beta  \\\n",
      "0        1            None    CASSIGDYAEQFF    None    None  TCRBV19-01   \n",
      "1        4            None     CASSPGMLEQYF    None    None  TCRBV19-01   \n",
      "2        5            None    CASSIGDSYEQYF    None    None  TCRBV19-01   \n",
      "3        9            None  CASSIDTGGFYEQYF    None    None  TCRBV19-01   \n",
      "4       10            None   CASSPGQYYAEQFF    None    None  TCRBV19-01   \n",
      "..     ...             ...              ...     ...     ...         ...   \n",
      "170   2352            None   CASSMPGGAYEQYF    None    None  TCRBV19-01   \n",
      "171   2357            None   CASSLRGANERLFF    None    None  TCRBV15-01   \n",
      "172   2431            None    CASSINRGNTLYF    None    None  TCRBV19-01   \n",
      "173   2433            None    CASSIRKNTEVFF    None    None  TCRBV19-01   \n",
      "174   2434            None    CASSIRNYAEQFF    None    None  TCRBV19-01   \n",
      "\n",
      "    D_beta      J_beta  Frequency   Labels             Sample           HLA  \n",
      "0     None  TCRBJ02-01   0.025641    Db-F2          Db-F2.tsv  [N, o, n, e]  \n",
      "1     None  TCRBJ02-07   0.025641    Db-F2          Db-F2.tsv  [N, o, n, e]  \n",
      "2     None  TCRBJ02-07   0.017094    Db-F2          Db-F2.tsv  [N, o, n, e]  \n",
      "3     None  TCRBJ02-07   0.017094    Db-F2          Db-F2.tsv  [N, o, n, e]  \n",
      "4     None  TCRBJ02-01   0.008547    Db-F2          Db-F2.tsv  [N, o, n, e]  \n",
      "..     ...         ...        ...      ...                ...           ...  \n",
      "170   None  TCRBJ02-07   0.005155  Kb-TRP2  Kb-7_dLN_TRP2.tsv  [N, o, n, e]  \n",
      "171   None  TCRBJ01-04   0.005155  Kb-TRP2  Kb-7_dLN_TRP2.tsv  [N, o, n, e]  \n",
      "172   None  TCRBJ02-04   0.011494  Kb-m139        Kb-m139.tsv  [N, o, n, e]  \n",
      "173   None  TCRBJ01-01   0.011494  Kb-m139        Kb-m139.tsv  [N, o, n, e]  \n",
      "174   None  TCRBJ02-01   0.011494  Kb-m139        Kb-m139.tsv  [N, o, n, e]  \n",
      "\n",
      "[175 rows x 12 columns]\n"
     ]
    }
   ],
   "source": [
    "DFs = DTCRU.Cluster_DFs\n",
    "print(DFs[0])"
   ]
  },
  {
   "cell_type": "markdown",
   "metadata": {},
   "source": [
    "We can also choose to save these results to a directory called Name of object + '_Results' by setting the write_to_sheets parameter to True. There, we can find the proportions of every sample in each cluster and csv files for every cluster detailing the sequence information with other information as well."
   ]
  },
  {
   "cell_type": "code",
   "execution_count": 4,
   "metadata": {},
   "outputs": [
    {
     "name": "stdout",
     "output_type": "stream",
     "text": [
      "Finding 30 nearest neighbors using minkowski metric and 'auto' algorithm\n",
      "Neighbors computed in 2.7595582008361816 seconds\n",
      "Jaccard graph constructed in 0.8318500518798828 seconds\n",
      "Wrote graph to binary file in 0.22288870811462402 seconds\n",
      "Running Louvain modularity optimization\n",
      "After 1 runs, maximum modularity is Q = 0.864941\n",
      "After 2 runs, maximum modularity is Q = 0.866201\n",
      "Louvain completed 22 runs in 4.6771721839904785 seconds\n",
      "PhenoGraph complete in 8.503629922866821 seconds\n",
      "Clustering Done\n"
     ]
    }
   ],
   "source": [
    "DTCRU.Cluster(clustering_method='phenograph',write_to_sheets=True)"
   ]
  },
  {
   "cell_type": "markdown",
   "metadata": {},
   "source": [
    "We can also employ two other clustering algorithms (hierarchical clustering and DBSCAN). For these types of methods, we can either control the settings for the algorithm such as the threshold parameter (t), the criterion/linkage algorithm for heirarchical clustering, or we can allow the method to determine the optimal threshold parameter by maximizing the silhoutte score of the clustering solution. First, if we run hierarchial clustering letting the program determing the right threshold parameters:"
   ]
  },
  {
   "cell_type": "markdown",
   "metadata": {},
   "source": [
    "## Hierarchical Clustering"
   ]
  },
  {
   "cell_type": "code",
   "execution_count": 5,
   "metadata": {},
   "outputs": [
    {
     "name": "stdout",
     "output_type": "stream",
     "text": [
      "Clustering Done\n"
     ]
    }
   ],
   "source": [
    "DTCRU.Cluster(clustering_method='hierarchical')"
   ]
  },
  {
   "cell_type": "markdown",
   "metadata": {},
   "source": [
    "Or we can set the parameters ourselves."
   ]
  },
  {
   "cell_type": "code",
   "execution_count": 6,
   "metadata": {},
   "outputs": [
    {
     "name": "stdout",
     "output_type": "stream",
     "text": [
      "Clustering Done\n"
     ]
    }
   ],
   "source": [
    "DTCRU.Cluster(clustering_method='hierarchical',criterion='distance',t=1.0)"
   ]
  },
  {
   "cell_type": "markdown",
   "metadata": {},
   "source": [
    "## DBSCAN clustering"
   ]
  },
  {
   "cell_type": "markdown",
   "metadata": {},
   "source": [
    "And to use DBSCAN..."
   ]
  },
  {
   "cell_type": "code",
   "execution_count": 7,
   "metadata": {},
   "outputs": [
    {
     "name": "stdout",
     "output_type": "stream",
     "text": [
      "Clustering Done\n"
     ]
    }
   ],
   "source": [
    "DTCRU.Cluster(clustering_method='dbscan')"
   ]
  },
  {
   "cell_type": "markdown",
   "metadata": {},
   "source": [
    "In the case there are perhaps too many sequences to efficiently cluster the data quickly, one can downsample the data and then use a k-nearest neighbor algorithm to classify the rest of the sequences like so .Here, we will downsample 500 sequenes for clustering and then assign the rest via KNN."
   ]
  },
  {
   "cell_type": "code",
   "execution_count": 8,
   "metadata": {},
   "outputs": [
    {
     "name": "stdout",
     "output_type": "stream",
     "text": [
      "Finding 30 nearest neighbors using minkowski metric and 'auto' algorithm\n",
      "Neighbors computed in 0.12490582466125488 seconds\n",
      "Jaccard graph constructed in 0.15070366859436035 seconds\n",
      "Wrote graph to binary file in 0.1392967700958252 seconds\n",
      "Running Louvain modularity optimization\n",
      "After 1 runs, maximum modularity is Q = 0.610968\n",
      "After 3 runs, maximum modularity is Q = 0.614751\n",
      "After 12 runs, maximum modularity is Q = 0.619389\n",
      "Louvain completed 32 runs in 6.198317289352417 seconds\n",
      "PhenoGraph complete in 6.621154069900513 seconds\n",
      "Clustering Done\n"
     ]
    }
   ],
   "source": [
    "DTCRU.Cluster(clustering_method='phenograph',sample=500)"
   ]
  },
  {
   "cell_type": "markdown",
   "metadata": {},
   "source": [
    "Finally, we can visualize the clustering results through a UMAP representation of the sequences."
   ]
  },
  {
   "cell_type": "markdown",
   "metadata": {},
   "source": [
    "## Clustering Visualization"
   ]
  },
  {
   "cell_type": "code",
   "execution_count": 9,
   "metadata": {},
   "outputs": [
    {
     "data": {
      "image/png": "[encoded data removed]",
      "text/plain": [
       "<Figure size 432x288 with 1 Axes>"
      ]
     },
     "metadata": {},
     "output_type": "display_data"
    }
   ],
   "source": [
    "DTCRU.UMAP_Plot(by_cluster=True)"
   ]
  },
  {
   "cell_type": "markdown",
   "metadata": {},
   "source": [
    "For full description of options for clustering, see Documentation."
   ]
  },
  {
   "cell_type": "code",
   "execution_count": null,
   "metadata": {},
   "outputs": [],
   "source": []
  }
 ],
 "metadata": {
  "kernelspec": {
   "display_name": "deeptcr",
   "language": "python",
   "name": "deeptcr"
  },
  "language_info": {
   "codemirror_mode": {
    "name": "ipython",
    "version": 3
   },
   "file_extension": ".py",
   "mimetype": "text/x-python",
   "name": "python",
   "nbconvert_exporter": "python",
   "pygments_lexer": "ipython3",
   "version": "3.6.9"
  }
 },
 "nbformat": 4,
 "nbformat_minor": 2
}
