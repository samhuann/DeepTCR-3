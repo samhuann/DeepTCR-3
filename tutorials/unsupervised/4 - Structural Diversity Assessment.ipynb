{
 "cells": [
  {
   "cell_type": "markdown",
   "metadata": {},
   "source": [
    "# Structural Diversity Assessment"
   ]
  },
  {
   "cell_type": "markdown",
   "metadata": {},
   "source": [
    "DeepTCR3 can be used to assess the structural diversity within a repertoire. One can think of this structural diversity assessment as being a measure of the number of antigens or concepts within a repertoire. A repertoire that has low diversity is recognizing few antigens while one with a high diversity can recognize more. We will assess two measures of diversity. The first one is the number of clusters/concepts of TCR sequences are present in each sample/repertoire. And the second is how entropic is the distribution of the sequence reads across these clusters. For example, a sample can have 12 clusters but if 90% of the repertoire is is one cluster, this would be a low entropic repertoire."
   ]
  },
  {
   "cell_type": "markdown",
   "metadata": {},
   "source": [
    "First, we will load data and train the VAE."
   ]
  },
  {
   "cell_type": "code",
   "execution_count": 1,
   "metadata": {},
   "outputs": [],
   "source": [
    "%%capture\n",
    "import sys\n",
    "sys.path.append('../../')\n",
    "from DeepTCR3.DeepTCR3 import DeepTCR3_U\n",
    "\n",
    "# Instantiate training object\n",
    "DTCRU = DeepTCR3_U('Tutorial')\n",
    "\n",
    "#Load Data from directories\n",
    "DTCRU.Get_Data(directory='../../Data/Murine_Antigens',Load_Prev_Data=False,aggregate_by_aa=True,\n",
    "               aa_column_beta=0,count_column=1,v_beta_column=2,j_beta_column=3)\n",
    "\n",
    "#Train VAE\n",
    "DTCRU.Train_VAE(Load_Prev_Data=False)"
   ]
  },
  {
   "cell_type": "markdown",
   "metadata": {},
   "source": [
    "We will then execute the following command to generate diversity measurements."
   ]
  },
  {
   "cell_type": "code",
   "execution_count": 2,
   "metadata": {},
   "outputs": [
    {
     "name": "stdout",
     "output_type": "stream",
     "text": [
      "Finding 30 nearest neighbors using minkowski metric and 'auto' algorithm\n",
      "Neighbors computed in 2.7122957706451416 seconds\n",
      "Jaccard graph constructed in 0.7806694507598877 seconds\n",
      "Wrote graph to binary file in 0.2883594036102295 seconds\n",
      "Running Louvain modularity optimization\n",
      "After 1 runs, maximum modularity is Q = 0.886948\n",
      "Louvain completed 21 runs in 4.396822452545166 seconds\n",
      "PhenoGraph complete in 8.189501523971558 seconds\n"
     ]
    }
   ],
   "source": [
    "DTCRU.Structural_Diversity()"
   ]
  },
  {
   "cell_type": "markdown",
   "metadata": {},
   "source": [
    "Because the first step of this algorithm is to cluster the data via the phenograph algorithm, we can also change the sample parameter to sub-sample for our initial clustering before applying a K-nearest neighbors algorithm to assign the rest of the sequences. This is helpful in the case of very large TCRSeq file (like those collected in from Tumor-Infiltrating Lymphocytes (TIL))."
   ]
  },
  {
   "cell_type": "code",
   "execution_count": 3,
   "metadata": {},
   "outputs": [
    {
     "name": "stdout",
     "output_type": "stream",
     "text": [
      "Finding 30 nearest neighbors using minkowski metric and 'auto' algorithm\n",
      "Neighbors computed in 0.17600107192993164 seconds\n",
      "Jaccard graph constructed in 0.16491436958312988 seconds\n",
      "Wrote graph to binary file in 0.022684335708618164 seconds\n",
      "Running Louvain modularity optimization\n",
      "After 1 runs, maximum modularity is Q = 0.652236\n",
      "After 2 runs, maximum modularity is Q = 0.655081\n",
      "After 11 runs, maximum modularity is Q = 0.657114\n",
      "After 22 runs, maximum modularity is Q = 0.659137\n",
      "Louvain completed 42 runs in 7.972766876220703 seconds\n",
      "PhenoGraph complete in 8.344019889831543 seconds\n"
     ]
    }
   ],
   "source": [
    "DTCRU.Structural_Diversity(sample=500)"
   ]
  },
  {
   "cell_type": "markdown",
   "metadata": {},
   "source": [
    "We can then view the structural diversity metrics in the respective object variable."
   ]
  },
  {
   "cell_type": "code",
   "execution_count": 4,
   "metadata": {},
   "outputs": [
    {
     "name": "stdout",
     "output_type": "stream",
     "text": [
      "                  Sample    Class   Entropy  Num of Clusters\n",
      "0              Db-F2.tsv    Db-F2  1.738316                7\n",
      "1             Db-M45.tsv   Db-M45  1.894494                9\n",
      "2              Db-NP.tsv    Db-NP  1.715958                9\n",
      "3              Db-PA.tsv    Db-PA  1.603360                9\n",
      "4             Db-PB1.tsv   Db-PB1  1.357835                9\n",
      "5             Kb-M38.tsv   Kb-M38  0.947212                9\n",
      "6       Kb-6_dLN_SIY.tsv   Kb-SIY  1.832507                9\n",
      "7      Kb-5_TILS_SIY.tsv   Kb-SIY  1.739412                8\n",
      "8     Kb-4_Sp_T_SIYI.tsv   Kb-SIY  1.913302                9\n",
      "9    Kb-1_Sp_Con_SIY.tsv   Kb-SIY  1.849259                9\n",
      "10  Kb-2_Sp_Con_TRP2.tsv  Kb-TRP2  1.966476                9\n",
      "11    Kb-3_Sp_T_TRP2.tsv  Kb-TRP2  1.684725                9\n",
      "12     Kb-7_dLN_TRP2.tsv  Kb-TRP2  1.923864                9\n",
      "13           Kb-m139.tsv  Kb-m139  1.975833                9\n"
     ]
    }
   ],
   "source": [
    "print(DTCRU.Structural_Diversity_DF)"
   ]
  },
  {
   "cell_type": "markdown",
   "metadata": {},
   "source": [
    "We can see the entropy and number of clusters for each sample."
   ]
  }
 ],
 "metadata": {
  "kernelspec": {
   "display_name": "deeptcr",
   "language": "python",
   "name": "deeptcr"
  },
  "language_info": {
   "codemirror_mode": {
    "name": "ipython",
    "version": 3
   },
   "file_extension": ".py",
   "mimetype": "text/x-python",
   "name": "python",
   "nbconvert_exporter": "python",
   "pygments_lexer": "ipython3",
   "version": "3.6.9"
  }
 },
 "nbformat": 4,
 "nbformat_minor": 2
}
