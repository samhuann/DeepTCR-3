{
 "cells": [
  {
   "cell_type": "markdown",
   "metadata": {},
   "source": [
    "# Loading Data with HLA or MHC information"
   ]
  },
  {
   "cell_type": "markdown",
   "metadata": {},
   "source": [
    "TCR repertoire is understand in the context of the HLA/MHC background in which it resides. The antigenic specificty of a TCR in a host is not only determined by the structure of the TCR but also by what HLA/MHC molecules are present as these dictate the peptides that can be presented and recognized by a particular TCR repertoire.\n",
    "\n",
    "When comparing the TCR repertoires between inbred mice, since they share the same MHC background, their TCR repertoires are directly comparable. A TCR seen in any animal will be recognizing the same epitope.\n",
    "\n",
    "However, when comparing human samples with HLA heterogeneity, the same TCR in two humans does not mean they are recognizing the same epitopes as what is presented is determined by the HLA of the human. Therefore, one wants to make comparisons of repertoire in context of the HLA background the TCR was seen in.\n",
    "\n",
    "In this tutorial, we will demonstrate how to load HLA information along with TCR-Seq data."
   ]
  },
  {
   "cell_type": "markdown",
   "metadata": {},
   "source": [
    "## Preparing Data"
   ]
  },
  {
   "cell_type": "markdown",
   "metadata": {},
   "source": [
    "We've created a toy dataset under Data called 'Human_HLA_Tutorial' to walk through how to incorporate HLA into your TCR-Seq analysis. In that folder, you should see a folder called 'Data' with 10 samples labeled 'Sample_N.tsv'. Additionally, in that same folder, you will see a file called HLA.csv where the first column lists the file names where the TCR-Seq data is stored along with 6 columns for HLA information. It is important that the HLA information is provided in this format in a csv formatted file."
   ]
  },
  {
   "cell_type": "code",
   "execution_count": 1,
   "metadata": {},
   "outputs": [],
   "source": [
    "import pandas as pd\n",
    "import numpy as np\n",
    "\n",
    "df_hla = pd.read_csv('../Data/Human_HLA_Tutorial/HLA.csv')"
   ]
  },
  {
   "cell_type": "code",
   "execution_count": 2,
   "metadata": {},
   "outputs": [
    {
     "data": {
      "text/plain": "            File      0      1      2      3      4      5\n0   Sample_1.tsv  A1101  A2501  B1801  B5201  C1202  C1203\n1   Sample_2.tsv  A1101  A2501  B1801  B5201  C1202  C1203\n2   Sample_3.tsv  A1101  A2501  B1801  B5201  C1202  C1203\n3   Sample_4.tsv  A1101  A2501  B1801  B5201  C1202  C1203\n4   Sample_5.tsv  A0201  A2902  B3801  B4501  C0602  C1203\n5   Sample_6.tsv  A0201  A2902  B3801  B4501  C0602  C1203\n6   Sample_7.tsv  A0201  A2902  B3801  B4501  C0602  C1203\n7   Sample_8.tsv  A0201  A2902  B3801  B4501  C0602  C1203\n8   Sample_9.tsv  A0201  A0206  B2705  B4001  C0303  C0304\n9  Sample_10.tsv  A0201  A0206  B2705  B4001  C0303  C0304",
      "text/html": "<div>\n<style scoped>\n    .dataframe tbody tr th:only-of-type {\n        vertical-align: middle;\n    }\n\n    .dataframe tbody tr th {\n        vertical-align: top;\n    }\n\n    .dataframe thead th {\n        text-align: right;\n    }\n</style>\n<table border=\"1\" class=\"dataframe\">\n  <thead>\n    <tr style=\"text-align: right;\">\n      <th></th>\n      <th>File</th>\n      <th>0</th>\n      <th>1</th>\n      <th>2</th>\n      <th>3</th>\n      <th>4</th>\n      <th>5</th>\n    </tr>\n  </thead>\n  <tbody>\n    <tr>\n      <th>0</th>\n      <td>Sample_1.tsv</td>\n      <td>A1101</td>\n      <td>A2501</td>\n      <td>B1801</td>\n      <td>B5201</td>\n      <td>C1202</td>\n      <td>C1203</td>\n    </tr>\n    <tr>\n      <th>1</th>\n      <td>Sample_2.tsv</td>\n      <td>A1101</td>\n      <td>A2501</td>\n      <td>B1801</td>\n      <td>B5201</td>\n      <td>C1202</td>\n      <td>C1203</td>\n    </tr>\n    <tr>\n      <th>2</th>\n      <td>Sample_3.tsv</td>\n      <td>A1101</td>\n      <td>A2501</td>\n      <td>B1801</td>\n      <td>B5201</td>\n      <td>C1202</td>\n      <td>C1203</td>\n    </tr>\n    <tr>\n      <th>3</th>\n      <td>Sample_4.tsv</td>\n      <td>A1101</td>\n      <td>A2501</td>\n      <td>B1801</td>\n      <td>B5201</td>\n      <td>C1202</td>\n      <td>C1203</td>\n    </tr>\n    <tr>\n      <th>4</th>\n      <td>Sample_5.tsv</td>\n      <td>A0201</td>\n      <td>A2902</td>\n      <td>B3801</td>\n      <td>B4501</td>\n      <td>C0602</td>\n      <td>C1203</td>\n    </tr>\n    <tr>\n      <th>5</th>\n      <td>Sample_6.tsv</td>\n      <td>A0201</td>\n      <td>A2902</td>\n      <td>B3801</td>\n      <td>B4501</td>\n      <td>C0602</td>\n      <td>C1203</td>\n    </tr>\n    <tr>\n      <th>6</th>\n      <td>Sample_7.tsv</td>\n      <td>A0201</td>\n      <td>A2902</td>\n      <td>B3801</td>\n      <td>B4501</td>\n      <td>C0602</td>\n      <td>C1203</td>\n    </tr>\n    <tr>\n      <th>7</th>\n      <td>Sample_8.tsv</td>\n      <td>A0201</td>\n      <td>A2902</td>\n      <td>B3801</td>\n      <td>B4501</td>\n      <td>C0602</td>\n      <td>C1203</td>\n    </tr>\n    <tr>\n      <th>8</th>\n      <td>Sample_9.tsv</td>\n      <td>A0201</td>\n      <td>A0206</td>\n      <td>B2705</td>\n      <td>B4001</td>\n      <td>C0303</td>\n      <td>C0304</td>\n    </tr>\n    <tr>\n      <th>9</th>\n      <td>Sample_10.tsv</td>\n      <td>A0201</td>\n      <td>A0206</td>\n      <td>B2705</td>\n      <td>B4001</td>\n      <td>C0303</td>\n      <td>C0304</td>\n    </tr>\n  </tbody>\n</table>\n</div>"
     },
     "execution_count": 2,
     "metadata": {},
     "output_type": "execute_result"
    }
   ],
   "source": [
    "df_hla"
   ]
  },
  {
   "cell_type": "markdown",
   "metadata": {},
   "source": [
    "These HLA values can be any categorical value the user wants and HLA can be encoded in anyway the user wants as long as it's consistent across all samples. DeepTCR3 takes the number of unique HLA types in this file and creates categories from them for the purpose of encoding this information into the model."
   ]
  },
  {
   "cell_type": "markdown",
   "metadata": {},
   "source": [
    "## Loading TCR and HLA"
   ]
  },
  {
   "cell_type": "code",
   "execution_count": 3,
   "metadata": {},
   "outputs": [
    {
     "name": "stdout",
     "output_type": "stream",
     "text": [
      "Loading Data...\n",
      "Embedding Sequences...\n",
      "Data Loaded\n"
     ]
    }
   ],
   "source": [
    "import sys\n",
    "sys.path.append('../')\n",
    "from DeepTCR3.DeepTCR3 import DeepTCR3_U\n",
    "\n",
    "# Instantiate training object\n",
    "DTCRU = DeepTCR3_U('HLA Tutorial')\n",
    "\n",
    "#Load TCR Data from directories\n",
    "DTCRU.Get_Data(directory='../Data/Human_HLA_Tutorial/Data',Load_Prev_Data=False,\n",
    "               aa_column_beta=1,count_column=2,v_beta_column=7,d_beta_column=14,j_beta_column=21,\n",
    "              hla='../Data/Human_HLA_Tutorial/HLA.csv')"
   ]
  },
  {
   "cell_type": "markdown",
   "metadata": {},
   "source": [
    "As demonstrated, it is simple to load the TCR and HLA information once it has been prepared properly. Of note, if any TCR-Seq files do not have corresponding HLA information as provided in the HLA.csv file, those samples will be dropped from the analysis."
   ]
  },
  {
   "cell_type": "markdown",
   "metadata": {},
   "source": [
    "We can also visualize here how many HLA categories were parsed from the data."
   ]
  },
  {
   "cell_type": "code",
   "execution_count": 4,
   "metadata": {},
   "outputs": [
    {
     "data": {
      "text/plain": "array(['A0201', 'A0206', 'A1101', 'A2501', 'A2902', 'B1801', 'B2705',\n       'B3801', 'B4001', 'B4501', 'B5201', 'C0303', 'C0304', 'C0602',\n       'C1202', 'C1203'], dtype=object)"
     },
     "execution_count": 4,
     "metadata": {},
     "output_type": "execute_result"
    }
   ],
   "source": [
    "DTCRU.lb_hla.classes_"
   ]
  },
  {
   "cell_type": "markdown",
   "metadata": {},
   "source": [
    "And we can also see how the data is encoded in this 'multi-hot' encoding."
   ]
  },
  {
   "cell_type": "code",
   "execution_count": 5,
   "metadata": {},
   "outputs": [
    {
     "data": {
      "text/plain": "array([[1, 0, 0, ..., 1, 0, 1],\n       [1, 0, 0, ..., 1, 0, 1],\n       [1, 0, 0, ..., 1, 0, 1],\n       ...,\n       [1, 0, 0, ..., 1, 0, 1],\n       [1, 0, 0, ..., 1, 0, 1],\n       [1, 0, 0, ..., 1, 0, 1]])"
     },
     "execution_count": 5,
     "metadata": {},
     "output_type": "execute_result"
    }
   ],
   "source": [
    "DTCRU.hla_data_seq_num"
   ]
  },
  {
   "cell_type": "markdown",
   "metadata": {},
   "source": [
    "## HLA Supertypes"
   ]
  },
  {
   "cell_type": "markdown",
   "metadata": {},
   "source": [
    "While the HLA loci are very genetically diverse, the idea of HLA supertypes is that there are biologically functional groupings of HLA based on how they bind antigen. In DeepTCR3, a user can choose to transform the HLA information from allele (i.e. A0101) to supertype (i.e. A01). In order to do this, it is a simple as setting the use_hla_supertype to True. For this method to work, HLA MUST be provided in the following format -  A0101. Formats such as A*0101 or HLA-A*0101 will not be recognized."
   ]
  },
  {
   "cell_type": "code",
   "execution_count": 6,
   "metadata": {},
   "outputs": [
    {
     "name": "stdout",
     "output_type": "stream",
     "text": [
      "Loading Data...\n",
      "Embedding Sequences...\n",
      "Data Loaded\n"
     ]
    }
   ],
   "source": [
    "# Instantiate training object\n",
    "DTCRU = DeepTCR3_U('HLA Tutorial')\n",
    "\n",
    "#Load TCR Data from directories\n",
    "DTCRU.Get_Data(directory='../Data/Human_HLA_Tutorial/Data',Load_Prev_Data=False,\n",
    "               aa_column_beta=1,count_column=2,v_beta_column=7,d_beta_column=14,j_beta_column=21,\n",
    "              hla='../Data/Human_HLA_Tutorial/HLA.csv',use_hla_supertype=True)"
   ]
  },
  {
   "cell_type": "markdown",
   "metadata": {},
   "source": [
    "Now if we look at the HLA categories..."
   ]
  },
  {
   "cell_type": "code",
   "execution_count": 7,
   "metadata": {},
   "outputs": [
    {
     "data": {
      "text/plain": "array(['A01', 'A01 A24', 'A02', 'A03', 'B27', 'B44', 'B62'], dtype=object)"
     },
     "execution_count": 7,
     "metadata": {},
     "output_type": "execute_result"
    }
   ],
   "source": [
    "DTCRU.lb_hla.classes_"
   ]
  },
  {
   "cell_type": "markdown",
   "metadata": {},
   "source": [
    "We can see that we've reduced the HLA dimensional space to supertypes. \n",
    "These supertype designations were taken from:\n",
    "\n",
    "Sidney, J., Peters, B., Frahm, N., Brander, C., & Sette, A. (2008).\n",
    "            HLA class I supertypes: a revised and updated classification. BMC immunology, 9(1), 1."
   ]
  },
  {
   "cell_type": "markdown",
   "metadata": {},
   "source": [
    "As you can see, the C alleles were removed as there are no well understood groupings as of yet (if this changes, we will update this in later versions of DeepTCR3). However, if one wants to include HLA alleles that do not fall into group as specified by the publication above, one can set another parameter (keep_non_supertype_alleles) to True."
   ]
  },
  {
   "cell_type": "code",
   "execution_count": 8,
   "metadata": {},
   "outputs": [
    {
     "name": "stdout",
     "output_type": "stream",
     "text": [
      "Loading Data...\n",
      "Embedding Sequences...\n",
      "Data Loaded\n"
     ]
    }
   ],
   "source": [
    "# Instantiate training object\n",
    "DTCRU = DeepTCR3_U('HLA Tutorial')\n",
    "\n",
    "#Load TCR Data from directories\n",
    "DTCRU.Get_Data(directory='../Data/Human_HLA_Tutorial/Data',Load_Prev_Data=False,\n",
    "               aa_column_beta=1,count_column=2,v_beta_column=7,d_beta_column=14,j_beta_column=21,\n",
    "              hla='../Data/Human_HLA_Tutorial/HLA.csv',use_hla_supertype=True,keep_non_supertype_alleles=True)"
   ]
  },
  {
   "cell_type": "markdown",
   "metadata": {},
   "source": [
    "And now if we look at the HLA categories.."
   ]
  },
  {
   "cell_type": "code",
   "execution_count": 9,
   "metadata": {},
   "outputs": [
    {
     "data": {
      "text/plain": "array(['A01', 'A01 A24', 'A02', 'A03', 'B27', 'B44', 'B62', 'C0303',\n       'C0304', 'C0602', 'C1202', 'C1203'], dtype=object)"
     },
     "execution_count": 9,
     "metadata": {},
     "output_type": "execute_result"
    }
   ],
   "source": [
    "DTCRU.lb_hla.classes_"
   ]
  },
  {
   "cell_type": "markdown",
   "metadata": {},
   "source": [
    "We have both supertypes and alleles present."
   ]
  },
  {
   "cell_type": "code",
   "execution_count": null,
   "metadata": {},
   "outputs": [],
   "source": []
  }
 ],
 "metadata": {
  "kernelspec": {
   "name": "python3",
   "language": "python",
   "display_name": "Python 3"
  },
  "language_info": {
   "codemirror_mode": {
    "name": "ipython",
    "version": 3
   },
   "file_extension": ".py",
   "mimetype": "text/x-python",
   "name": "python",
   "nbconvert_exporter": "python",
   "pygments_lexer": "ipython3",
   "version": "3.6.9"
  }
 },
 "nbformat": 4,
 "nbformat_minor": 2
}