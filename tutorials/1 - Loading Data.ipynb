{
 "cells": [
  {
   "cell_type": "code",
   "execution_count": 8,
   "id": "bc6291c5",
   "metadata": {},
   "outputs": [],
   "source": [
    "import sys\n",
    "import os\n",
    "# Add the DeepTCR3 directory to Python path\n",
    "sys.path.insert(0, os.path.join(os.getcwd(), '..', 'DeepTCR3'))\n",
    "\n",
    "# Now import directly from functions\n",
    "from functions.io import get_data"
   ]
  },
  {
   "cell_type": "code",
   "execution_count": 10,
   "id": "f313427a",
   "metadata": {},
   "outputs": [
    {
     "name": "stdout",
     "output_type": "stream",
     "text": [
      "Loading TCR data from ../test_seq_data.csv\n",
      "Loaded 3 sequences\n",
      "{'seq': tensor([ 2,  1, 16, 16, 10,  6, 14,  6,  1,  4,  1,  5,  5,  0,  0,  0,  0,  0,\n",
      "         0,  0]), 'v_gene': tensor(1), 'j_gene': tensor(1), 'label': tensor(1.), 'weight': tensor(1.)}\n"
     ]
    }
   ],
   "source": [
    "from functions.io import get_data\n",
    "\n",
    "dataset = get_data(\"../test_seq_data.csv\", cache_path=None, per_repertoire=False)\n",
    "print(f\"Loaded {len(dataset)} sequences\")\n",
    "print(dataset[0])\n"
   ]
  },
  {
   "cell_type": "code",
   "execution_count": null,
   "id": "bfe2ff69",
   "metadata": {},
   "outputs": [],
   "source": []
  }
 ],
 "metadata": {
  "kernelspec": {
   "display_name": "venv",
   "language": "python",
   "name": "python3"
  },
  "language_info": {
   "codemirror_mode": {
    "name": "ipython",
    "version": 3
   },
   "file_extension": ".py",
   "mimetype": "text/x-python",
   "name": "python",
   "nbconvert_exporter": "python",
   "pygments_lexer": "ipython3",
   "version": "3.13.3"
  }
 },
 "nbformat": 4,
 "nbformat_minor": 5
}
